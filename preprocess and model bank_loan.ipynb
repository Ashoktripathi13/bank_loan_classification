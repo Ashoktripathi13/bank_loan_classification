{
 "cells": [
  {
   "cell_type": "code",
   "execution_count": 1,
   "id": "4b6e16a4",
   "metadata": {
    "scrolled": true
   },
   "outputs": [
    {
     "name": "stdout",
     "output_type": "stream",
     "text": [
      "Requirement already satisfied: imbalanced-learn in c:\\users\\dell\\anaconda3\\lib\\site-packages (0.11.0)\n",
      "Requirement already satisfied: numpy>=1.17.3 in c:\\users\\dell\\anaconda3\\lib\\site-packages (from imbalanced-learn) (1.22.4)\n",
      "Requirement already satisfied: scikit-learn>=1.0.2 in c:\\users\\dell\\anaconda3\\lib\\site-packages (from imbalanced-learn) (1.0.2)\n",
      "Requirement already satisfied: threadpoolctl>=2.0.0 in c:\\users\\dell\\anaconda3\\lib\\site-packages (from imbalanced-learn) (2.2.0)\n",
      "Requirement already satisfied: scipy>=1.5.0 in c:\\users\\dell\\anaconda3\\lib\\site-packages (from imbalanced-learn) (1.7.3)\n",
      "Requirement already satisfied: joblib>=1.1.1 in c:\\users\\dell\\anaconda3\\lib\\site-packages (from imbalanced-learn) (1.3.1)\n"
     ]
    },
    {
     "name": "stderr",
     "output_type": "stream",
     "text": [
      "WARNING: Ignoring invalid distribution -ordcloud (c:\\users\\dell\\anaconda3\\lib\\site-packages)\n",
      "WARNING: Ignoring invalid distribution -ordcloud (c:\\users\\dell\\anaconda3\\lib\\site-packages)\n",
      "WARNING: Ignoring invalid distribution -ordcloud (c:\\users\\dell\\anaconda3\\lib\\site-packages)\n",
      "WARNING: Ignoring invalid distribution -ordcloud (c:\\users\\dell\\anaconda3\\lib\\site-packages)\n",
      "WARNING: Ignoring invalid distribution -ordcloud (c:\\users\\dell\\anaconda3\\lib\\site-packages)\n",
      "WARNING: Ignoring invalid distribution -ordcloud (c:\\users\\dell\\anaconda3\\lib\\site-packages)\n"
     ]
    }
   ],
   "source": [
    "! pip install imbalanced-learn\n"
   ]
  },
  {
   "cell_type": "markdown",
   "id": "8bb9afce",
   "metadata": {},
   "source": [
    "# importing necessary libraries"
   ]
  },
  {
   "cell_type": "code",
   "execution_count": 1,
   "id": "aa7cddae",
   "metadata": {},
   "outputs": [],
   "source": [
    "\n",
    "import pandas as pd\n",
    "from imblearn.over_sampling import SMOTE\n",
    "from sklearn.preprocessing import LabelEncoder\n",
    "from sklearn.model_selection import train_test_split\n",
    "\n",
    "import sklearn\n",
    "from sklearn.svm import LinearSVC\n",
    "from sklearn.linear_model import LogisticRegression\n",
    "from sklearn.ensemble import RandomForestClassifier\n",
    "from sklearn.neighbors import KNeighborsClassifier\n",
    "from sklearn.tree import DecisionTreeClassifier\n",
    "from sklearn.metrics import confusion_matrix\n",
    "from sklearn.metrics import classification_report"
   ]
  },
  {
   "cell_type": "markdown",
   "id": "4e9b67e1",
   "metadata": {},
   "source": [
    "# loading data"
   ]
  },
  {
   "cell_type": "code",
   "execution_count": 3,
   "id": "aaf40b58",
   "metadata": {},
   "outputs": [],
   "source": [
    "df=pd.read_csv('bank_loan_final.csv')"
   ]
  },
  {
   "cell_type": "code",
   "execution_count": 4,
   "id": "1fd1fa8c",
   "metadata": {},
   "outputs": [
    {
     "data": {
      "text/html": [
       "<div>\n",
       "<style scoped>\n",
       "    .dataframe tbody tr th:only-of-type {\n",
       "        vertical-align: middle;\n",
       "    }\n",
       "\n",
       "    .dataframe tbody tr th {\n",
       "        vertical-align: top;\n",
       "    }\n",
       "\n",
       "    .dataframe thead th {\n",
       "        text-align: right;\n",
       "    }\n",
       "</style>\n",
       "<table border=\"1\" class=\"dataframe\">\n",
       "  <thead>\n",
       "    <tr style=\"text-align: right;\">\n",
       "      <th></th>\n",
       "      <th>Unnamed: 0</th>\n",
       "      <th>Age</th>\n",
       "      <th>Gender</th>\n",
       "      <th>Experience</th>\n",
       "      <th>Income</th>\n",
       "      <th>ZIP Code</th>\n",
       "      <th>Family</th>\n",
       "      <th>CCAvg</th>\n",
       "      <th>Education</th>\n",
       "      <th>Mortgage</th>\n",
       "      <th>Home Ownership</th>\n",
       "      <th>Personal Loan</th>\n",
       "      <th>Securities Account</th>\n",
       "      <th>CD Account</th>\n",
       "      <th>Online</th>\n",
       "      <th>CreditCard</th>\n",
       "    </tr>\n",
       "  </thead>\n",
       "  <tbody>\n",
       "    <tr>\n",
       "      <th>0</th>\n",
       "      <td>0</td>\n",
       "      <td>25.0</td>\n",
       "      <td>M</td>\n",
       "      <td>1.0</td>\n",
       "      <td>49.0</td>\n",
       "      <td>91107.0</td>\n",
       "      <td>4.0</td>\n",
       "      <td>1.6</td>\n",
       "      <td>1.0</td>\n",
       "      <td>0.0</td>\n",
       "      <td>Home Owner</td>\n",
       "      <td>0.0</td>\n",
       "      <td>1.0</td>\n",
       "      <td>0.0</td>\n",
       "      <td>0.0</td>\n",
       "      <td>0.0</td>\n",
       "    </tr>\n",
       "    <tr>\n",
       "      <th>1</th>\n",
       "      <td>1</td>\n",
       "      <td>45.0</td>\n",
       "      <td>M</td>\n",
       "      <td>19.0</td>\n",
       "      <td>34.0</td>\n",
       "      <td>90089.0</td>\n",
       "      <td>3.0</td>\n",
       "      <td>1.5</td>\n",
       "      <td>1.0</td>\n",
       "      <td>0.0</td>\n",
       "      <td>Rent</td>\n",
       "      <td>0.0</td>\n",
       "      <td>1.0</td>\n",
       "      <td>0.0</td>\n",
       "      <td>0.0</td>\n",
       "      <td>0.0</td>\n",
       "    </tr>\n",
       "    <tr>\n",
       "      <th>2</th>\n",
       "      <td>2</td>\n",
       "      <td>39.0</td>\n",
       "      <td>M</td>\n",
       "      <td>15.0</td>\n",
       "      <td>11.0</td>\n",
       "      <td>94720.0</td>\n",
       "      <td>1.0</td>\n",
       "      <td>1.0</td>\n",
       "      <td>1.0</td>\n",
       "      <td>0.0</td>\n",
       "      <td>Rent</td>\n",
       "      <td>0.0</td>\n",
       "      <td>0.0</td>\n",
       "      <td>0.0</td>\n",
       "      <td>0.0</td>\n",
       "      <td>0.0</td>\n",
       "    </tr>\n",
       "    <tr>\n",
       "      <th>3</th>\n",
       "      <td>3</td>\n",
       "      <td>35.0</td>\n",
       "      <td>M</td>\n",
       "      <td>9.0</td>\n",
       "      <td>100.0</td>\n",
       "      <td>94112.0</td>\n",
       "      <td>1.0</td>\n",
       "      <td>2.7</td>\n",
       "      <td>2.0</td>\n",
       "      <td>0.0</td>\n",
       "      <td>Rent</td>\n",
       "      <td>0.0</td>\n",
       "      <td>0.0</td>\n",
       "      <td>0.0</td>\n",
       "      <td>0.0</td>\n",
       "      <td>0.0</td>\n",
       "    </tr>\n",
       "    <tr>\n",
       "      <th>4</th>\n",
       "      <td>4</td>\n",
       "      <td>35.0</td>\n",
       "      <td>M</td>\n",
       "      <td>8.0</td>\n",
       "      <td>45.0</td>\n",
       "      <td>91330.0</td>\n",
       "      <td>4.0</td>\n",
       "      <td>1.0</td>\n",
       "      <td>2.0</td>\n",
       "      <td>0.0</td>\n",
       "      <td>Rent</td>\n",
       "      <td>0.0</td>\n",
       "      <td>0.0</td>\n",
       "      <td>0.0</td>\n",
       "      <td>0.0</td>\n",
       "      <td>1.0</td>\n",
       "    </tr>\n",
       "  </tbody>\n",
       "</table>\n",
       "</div>"
      ],
      "text/plain": [
       "   Unnamed: 0   Age Gender  Experience  Income  ZIP Code  Family  CCAvg  \\\n",
       "0           0  25.0      M         1.0    49.0   91107.0     4.0    1.6   \n",
       "1           1  45.0      M        19.0    34.0   90089.0     3.0    1.5   \n",
       "2           2  39.0      M        15.0    11.0   94720.0     1.0    1.0   \n",
       "3           3  35.0      M         9.0   100.0   94112.0     1.0    2.7   \n",
       "4           4  35.0      M         8.0    45.0   91330.0     4.0    1.0   \n",
       "\n",
       "   Education  Mortgage Home Ownership  Personal Loan  Securities Account  \\\n",
       "0        1.0       0.0     Home Owner            0.0                 1.0   \n",
       "1        1.0       0.0           Rent            0.0                 1.0   \n",
       "2        1.0       0.0           Rent            0.0                 0.0   \n",
       "3        2.0       0.0           Rent            0.0                 0.0   \n",
       "4        2.0       0.0           Rent            0.0                 0.0   \n",
       "\n",
       "   CD Account  Online  CreditCard  \n",
       "0         0.0     0.0         0.0  \n",
       "1         0.0     0.0         0.0  \n",
       "2         0.0     0.0         0.0  \n",
       "3         0.0     0.0         0.0  \n",
       "4         0.0     0.0         1.0  "
      ]
     },
     "execution_count": 4,
     "metadata": {},
     "output_type": "execute_result"
    }
   ],
   "source": [
    "df.head()"
   ]
  },
  {
   "cell_type": "markdown",
   "id": "97991009",
   "metadata": {},
   "source": [
    "# Label Encoding"
   ]
  },
  {
   "cell_type": "code",
   "execution_count": 5,
   "id": "39355a09",
   "metadata": {},
   "outputs": [],
   "source": [
    "encode=LabelEncoder()"
   ]
  },
  {
   "cell_type": "markdown",
   "id": "48efee3d",
   "metadata": {},
   "source": [
    "# splitting the data into train and test"
   ]
  },
  {
   "cell_type": "code",
   "execution_count": 12,
   "id": "c7563a22",
   "metadata": {},
   "outputs": [],
   "source": [
    "X=df.drop(columns=['Unnamed: 0','Personal Loan'],axis=1)"
   ]
  },
  {
   "cell_type": "code",
   "execution_count": 13,
   "id": "d598191f",
   "metadata": {},
   "outputs": [],
   "source": [
    "y=df['Personal Loan']"
   ]
  },
  {
   "cell_type": "code",
   "execution_count": 14,
   "id": "a1841d29",
   "metadata": {},
   "outputs": [],
   "source": [
    "X_train,X_test,y_train,y_test=train_test_split(X,y,test_size=0.2,random_state=45)\n"
   ]
  },
  {
   "cell_type": "code",
   "execution_count": 15,
   "id": "aef7d520",
   "metadata": {},
   "outputs": [
    {
     "data": {
      "text/plain": [
       "((3999, 14), (1000, 14), (3999,), (1000,))"
      ]
     },
     "execution_count": 15,
     "metadata": {},
     "output_type": "execute_result"
    }
   ],
   "source": [
    "X_train.shape,X_test.shape,y_train.shape,y_test.shape\n"
   ]
  },
  {
   "cell_type": "markdown",
   "id": "6e4945e6",
   "metadata": {},
   "source": [
    "# using label encoder in train and test data"
   ]
  },
  {
   "cell_type": "code",
   "execution_count": 16,
   "id": "d0f46182",
   "metadata": {},
   "outputs": [],
   "source": [
    "X_train['Gender']=encode.fit_transform(X_train['Gender'])\n",
    "X_train['Home Ownership']=encode.fit_transform(X_train['Home Ownership'])"
   ]
  },
  {
   "cell_type": "code",
   "execution_count": 17,
   "id": "9e0aba57",
   "metadata": {},
   "outputs": [],
   "source": [
    "X_test['Gender']=encode.fit_transform(X_test['Gender'])\n",
    "X_test['Home Ownership']=encode.fit_transform(X_test['Home Ownership'])"
   ]
  },
  {
   "cell_type": "markdown",
   "id": "e2a1c01b",
   "metadata": {},
   "source": [
    "# using SMOTE for balancing the data"
   ]
  },
  {
   "cell_type": "code",
   "execution_count": 18,
   "id": "e2d45b0f",
   "metadata": {},
   "outputs": [],
   "source": [
    "smote=SMOTE(sampling_strategy=0.8,random_state=45)"
   ]
  },
  {
   "cell_type": "code",
   "execution_count": 19,
   "id": "56962598",
   "metadata": {},
   "outputs": [],
   "source": [
    "X_train_sm,y_train_sm=smote.fit_resample(X_train,y_train)"
   ]
  },
  {
   "cell_type": "code",
   "execution_count": 20,
   "id": "4043d98b",
   "metadata": {},
   "outputs": [
    {
     "data": {
      "text/plain": [
       "((6519, 14), (6519,))"
      ]
     },
     "execution_count": 20,
     "metadata": {},
     "output_type": "execute_result"
    }
   ],
   "source": [
    "X_train_sm.shape,y_train_sm.shape"
   ]
  },
  {
   "cell_type": "code",
   "execution_count": null,
   "id": "2b5da80d",
   "metadata": {},
   "outputs": [],
   "source": []
  },
  {
   "cell_type": "markdown",
   "id": "f280ff9c",
   "metadata": {},
   "source": [
    "# logistic regression"
   ]
  },
  {
   "cell_type": "code",
   "execution_count": 22,
   "id": "16268c25",
   "metadata": {},
   "outputs": [
    {
     "name": "stdout",
     "output_type": "stream",
     "text": [
      "the confusion matrix is:\n",
      "[[774 124]\n",
      " [ 23  79]]\n",
      "the classification report is:\n",
      "              precision    recall  f1-score   support\n",
      "\n",
      "         0.0       0.97      0.86      0.91       898\n",
      "         1.0       0.39      0.77      0.52       102\n",
      "\n",
      "    accuracy                           0.85      1000\n",
      "   macro avg       0.68      0.82      0.72      1000\n",
      "weighted avg       0.91      0.85      0.87      1000\n",
      "\n"
     ]
    }
   ],
   "source": [
    "lr=LogisticRegression()\n",
    "lr.fit(X_train_sm,y_train_sm)\n",
    "pred_lr=lr.predict(X_test)\n",
    "# print(pred_lr)\n",
    "print('the confusion matrix is:')\n",
    "print(confusion_matrix(y_test,pred_lr))\n",
    "print('the classification report is:')\n",
    "print(classification_report(y_test,pred_lr))"
   ]
  },
  {
   "cell_type": "markdown",
   "id": "7d22ea34",
   "metadata": {},
   "source": [
    "# support vector machine"
   ]
  },
  {
   "cell_type": "code",
   "execution_count": 44,
   "id": "07f00669",
   "metadata": {
    "scrolled": true
   },
   "outputs": [
    {
     "name": "stdout",
     "output_type": "stream",
     "text": [
      "the confusion matrix is:\n",
      "[[905   0]\n",
      " [ 95   0]]\n",
      "the classification report is:\n",
      "              precision    recall  f1-score   support\n",
      "\n",
      "           0       0.91      1.00      0.95       905\n",
      "           1       0.00      0.00      0.00        95\n",
      "\n",
      "    accuracy                           0.91      1000\n",
      "   macro avg       0.45      0.50      0.48      1000\n",
      "weighted avg       0.82      0.91      0.86      1000\n",
      "\n"
     ]
    },
    {
     "name": "stderr",
     "output_type": "stream",
     "text": [
      "C:\\Users\\dell\\anaconda3\\lib\\site-packages\\sklearn\\svm\\_base.py:1206: ConvergenceWarning: Liblinear failed to converge, increase the number of iterations.\n",
      "  warnings.warn(\n",
      "C:\\Users\\dell\\anaconda3\\lib\\site-packages\\sklearn\\metrics\\_classification.py:1318: UndefinedMetricWarning: Precision and F-score are ill-defined and being set to 0.0 in labels with no predicted samples. Use `zero_division` parameter to control this behavior.\n",
      "  _warn_prf(average, modifier, msg_start, len(result))\n",
      "C:\\Users\\dell\\anaconda3\\lib\\site-packages\\sklearn\\metrics\\_classification.py:1318: UndefinedMetricWarning: Precision and F-score are ill-defined and being set to 0.0 in labels with no predicted samples. Use `zero_division` parameter to control this behavior.\n",
      "  _warn_prf(average, modifier, msg_start, len(result))\n",
      "C:\\Users\\dell\\anaconda3\\lib\\site-packages\\sklearn\\metrics\\_classification.py:1318: UndefinedMetricWarning: Precision and F-score are ill-defined and being set to 0.0 in labels with no predicted samples. Use `zero_division` parameter to control this behavior.\n",
      "  _warn_prf(average, modifier, msg_start, len(result))\n"
     ]
    }
   ],
   "source": [
    "svc=LinearSVC()\n",
    "svc.fit(X_train_sm,y_train_sm)\n",
    "pred_svc=svc.predict(X_test)\n",
    "# print(pred_svc)\n",
    "print('the confusion matrix is:')\n",
    "print(confusion_matrix(y_test,pred_svc))\n",
    "print('the classification report is:')\n",
    "print(classification_report(y_test,pred_svc))"
   ]
  },
  {
   "cell_type": "markdown",
   "id": "c016b931",
   "metadata": {},
   "source": [
    "# Random forest classifier"
   ]
  },
  {
   "cell_type": "code",
   "execution_count": 23,
   "id": "ebf583c2",
   "metadata": {},
   "outputs": [
    {
     "name": "stdout",
     "output_type": "stream",
     "text": [
      "the confusion matrix is:\n",
      "[[894   4]\n",
      " [ 15  87]]\n",
      "the classification report is:\n",
      "              precision    recall  f1-score   support\n",
      "\n",
      "         0.0       0.98      1.00      0.99       898\n",
      "         1.0       0.96      0.85      0.90       102\n",
      "\n",
      "    accuracy                           0.98      1000\n",
      "   macro avg       0.97      0.92      0.95      1000\n",
      "weighted avg       0.98      0.98      0.98      1000\n",
      "\n"
     ]
    }
   ],
   "source": [
    "rmc=RandomForestClassifier()\n",
    "rmc.fit(X_train_sm,y_train_sm)\n",
    "pred_rmc=rmc.predict(X_test)\n",
    "# print(pred_rmc)\n",
    "print('the confusion matrix is:')\n",
    "print(confusion_matrix(y_test,pred_rmc))\n",
    "print('the classification report is:')\n",
    "print(classification_report(y_test,pred_rmc))"
   ]
  },
  {
   "cell_type": "markdown",
   "id": "420a1d6f",
   "metadata": {},
   "source": [
    "# KNeighbors classifier"
   ]
  },
  {
   "cell_type": "code",
   "execution_count": 46,
   "id": "04eaf0e4",
   "metadata": {},
   "outputs": [
    {
     "name": "stdout",
     "output_type": "stream",
     "text": [
      "the confusion matrix is:\n",
      "[[770 135]\n",
      " [ 41  54]]\n",
      "the classification report is:\n",
      "              precision    recall  f1-score   support\n",
      "\n",
      "           0       0.95      0.85      0.90       905\n",
      "           1       0.29      0.57      0.38        95\n",
      "\n",
      "    accuracy                           0.82      1000\n",
      "   macro avg       0.62      0.71      0.64      1000\n",
      "weighted avg       0.89      0.82      0.85      1000\n",
      "\n"
     ]
    }
   ],
   "source": [
    "kn=KNeighborsClassifier()\n",
    "kn.fit(X_train_sm,y_train_sm)\n",
    "pred_kn=kn.predict(X_test)\n",
    "# print(pred_kn)\n",
    "print('the confusion matrix is:')\n",
    "print(confusion_matrix(y_test,pred_kn))\n",
    "print('the classification report is:')\n",
    "print(classification_report(y_test,pred_kn))"
   ]
  },
  {
   "cell_type": "markdown",
   "id": "59e336bf",
   "metadata": {},
   "source": [
    "# Decision Tress Classifier"
   ]
  },
  {
   "cell_type": "code",
   "execution_count": 24,
   "id": "0b985214",
   "metadata": {},
   "outputs": [
    {
     "name": "stdout",
     "output_type": "stream",
     "text": [
      "the confusion matrix is:\n",
      "[[877  21]\n",
      " [ 19  83]]\n",
      "the classification report is:\n",
      "              precision    recall  f1-score   support\n",
      "\n",
      "         0.0       0.98      0.98      0.98       898\n",
      "         1.0       0.80      0.81      0.81       102\n",
      "\n",
      "    accuracy                           0.96      1000\n",
      "   macro avg       0.89      0.90      0.89      1000\n",
      "weighted avg       0.96      0.96      0.96      1000\n",
      "\n"
     ]
    }
   ],
   "source": [
    "dt=DecisionTreeClassifier()\n",
    "dt.fit(X_train_sm,y_train_sm)\n",
    "pred_dt=dt.predict(X_test)\n",
    "# print(pred_dt)\n",
    "print('the confusion matrix is:')\n",
    "print(confusion_matrix(y_test,pred_dt))\n",
    "print('the classification report is:')\n",
    "print(classification_report(y_test,pred_dt))"
   ]
  },
  {
   "cell_type": "code",
   "execution_count": null,
   "id": "9eebb2d8",
   "metadata": {},
   "outputs": [],
   "source": []
  }
 ],
 "metadata": {
  "kernelspec": {
   "display_name": "Python 3 (ipykernel)",
   "language": "python",
   "name": "python3"
  },
  "language_info": {
   "codemirror_mode": {
    "name": "ipython",
    "version": 3
   },
   "file_extension": ".py",
   "mimetype": "text/x-python",
   "name": "python",
   "nbconvert_exporter": "python",
   "pygments_lexer": "ipython3",
   "version": "3.9.12"
  }
 },
 "nbformat": 4,
 "nbformat_minor": 5
}
